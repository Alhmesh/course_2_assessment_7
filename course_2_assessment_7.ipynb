{
  "nbformat": 4,
  "nbformat_minor": 0,
  "metadata": {
    "colab": {
      "provenance": [],
      "authorship_tag": "ABX9TyPyF8yNMbOuMG5iYqU4qwA+",
      "include_colab_link": true
    },
    "kernelspec": {
      "name": "python3",
      "display_name": "Python 3"
    },
    "language_info": {
      "name": "python"
    }
  },
  "cells": [
    {
      "cell_type": "markdown",
      "metadata": {
        "id": "view-in-github",
        "colab_type": "text"
      },
      "source": [
        "<a href=\"https://colab.research.google.com/github/Alhmesh/course_2_assessment_7/blob/main/course_2_assessment_7.ipynb\" target=\"_parent\"><img src=\"https://colab.research.google.com/assets/colab-badge.svg\" alt=\"Open In Colab\"/></a>"
      ]
    },
    {
      "cell_type": "code",
      "execution_count": null,
      "metadata": {
        "id": "rClRr32XrEOf"
      },
      "outputs": [],
      "source": [
        "#Create a function called mult that has two parameters, the first is required and should be an integer,\n",
        "#the second is an optional parameter that can either be a number or a string but whose default is 6. The function should return the first parameter multiplied by the second.\n",
        "\n",
        "def mult(string, number = 6):\n",
        "    return string * number\n",
        "\n",
        "print(mult('hello'))"
      ]
    },
    {
      "cell_type": "code",
      "source": [
        "#The following function, greeting, does not work. Please fix the code so that it runs without error.\n",
        "#This only requires one change in the definition of the function.\n",
        "\n",
        "def greeting(name, greeting=\"Hello \", excl=\"!\"):\n",
        "    return greeting + name + excl\n",
        "\n",
        "print(greeting(\"Bob\"))\n",
        "print(greeting(\"\"))\n",
        "print(greeting(\"Bob\", excl=\"!!!\"))"
      ],
      "metadata": {
        "id": "U95nPYCKsJW2"
      },
      "execution_count": null,
      "outputs": []
    },
    {
      "cell_type": "code",
      "source": [
        "#Below is a function, sum, that does not work.\n",
        "#Change the function definition so the code works. The function should still have a required parameter,\n",
        "#intx, and an optional parameter, intz with a defualt value of 5.\n",
        "\n",
        "def sum(intx, intz=5):\n",
        "    return intz + intx\n"
      ],
      "metadata": {
        "id": "3Xu3F0nVseem"
      },
      "execution_count": null,
      "outputs": []
    },
    {
      "cell_type": "code",
      "source": [
        "#Write a function, test, that takes in three parameters: a required integer, an optional boolean whose default value is True, and an optional dictionary,\n",
        "#called dict1, whose default value is {2:3, 4:5, 6:8}. If the boolean parameter is True, the function should test to see if the integer is a key in the dictionary.\n",
        "#The value of that key should then be returned. If the boolean parameter is False, return the boolean value “False”.\n",
        "\n",
        "def test(intger, boolen = True, dict1 = {2:3, 4:5, 6:8}):\n",
        "    if boolen == True:\n",
        "        if intger in dict1.keys():\n",
        "            return dict1[intger]\n",
        "    return False\n",
        "print(test(4))"
      ],
      "metadata": {
        "id": "fOKdwAMlvv9Y"
      },
      "execution_count": null,
      "outputs": []
    },
    {
      "cell_type": "code",
      "source": [
        "#Write a function called checkingIfIn that takes three parameters. The first is a required parameter,\n",
        "#which should be a string. The second is an optional parameter called direction with a default value of True.\n",
        "#The third is an optional parameter called d that has a default value of {'apple': 2, 'pear': 1, 'fruit': 19, 'orange': 5, 'banana': 3, 'grapes': 2, 'watermelon': 7}.\n",
        "#Write the function checkingIfIn so that when the second parameter is True, it checks to see if the first parameter is a key in the third parameter; if it is, return True, otherwise return False.\n",
        "#But if the second paramter is False, then the function should check to see if the first parameter is not a key of the third. If it’s not, the function should return True in this case, and if it is, it should return False.\n",
        "\n",
        "def checkingIfIn(string, direction = True, d = {'apple': 2, 'pear': 1, 'fruit': 19, 'orange': 5, 'banana': 3, 'grapes': 2, 'watermelon': 7}):\n",
        "    if direction == True:\n",
        "        if string in d.keys():\n",
        "            return True\n",
        "        else:\n",
        "            return False\n",
        "    if direction  == False:\n",
        "        if string not in d.keys():\n",
        "            return True\n",
        "        else:\n",
        "            return False\n"
      ],
      "metadata": {
        "id": "pNJ4qUzfyDZr"
      },
      "execution_count": null,
      "outputs": []
    },
    {
      "cell_type": "code",
      "source": [
        "#We have provided the function checkingIfIn such that if the first input parameter is in the third, dictionary,\n",
        "#input parameter, then the function returns that value,\n",
        "#and otherwise, it returns False. Follow the instructions in the active code window for specific variable assignmemts.\n",
        "\n",
        "\n",
        "def checkingIfIn(a, direction = True, d = {'apple': 2, 'pear': 1, 'fruit': 19, 'orange': 5, 'banana': 3, 'grapes': 2, 'watermelon': 7}):\n",
        "    if direction == True:\n",
        "        if a in d:\n",
        "            return d[a]\n",
        "        else:\n",
        "            return False\n",
        "    else:\n",
        "        if a not in d:\n",
        "            return True\n",
        "        else:\n",
        "            return d[a]\n",
        "\n",
        "# Call the function so that it returns False and assign that function call to the variable c_false\n",
        "c_false = checkingIfIn('hello')\n",
        "# Call the fucntion so that it returns True and assign it to the variable c_true\n",
        "c_true = checkingIfIn('hello', False)\n",
        "# Call the function so that the value of fruit is assigned to the variable fruit_ans\n",
        "fruit_ans = checkingIfIn('fruit')\n",
        "# Call the function using the first and third parameter so that the value 8 is assigned to the variable param_check\n",
        "param_check = checkingIfIn('Date', d = {'Date': 8})\n"
      ],
      "metadata": {
        "id": "AU-xNhwy0Xpk"
      },
      "execution_count": null,
      "outputs": []
    }
  ]
}